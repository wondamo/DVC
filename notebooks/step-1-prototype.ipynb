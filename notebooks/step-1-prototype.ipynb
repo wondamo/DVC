{
 "cells": [
  {
   "cell_type": "code",
   "execution_count": 1,
   "metadata": {},
   "outputs": [
    {
     "name": "stdout",
     "output_type": "stream",
     "text": [
      "c:\\Users\\wonde\\Desktop\\Projects\\Speech-Notetaking\\dvc_stt\n"
     ]
    }
   ],
   "source": [
    "%cd .."
   ]
  },
  {
   "cell_type": "code",
   "execution_count": 2,
   "metadata": {},
   "outputs": [
    {
     "name": "stdout",
     "output_type": "stream",
     "text": [
      "{'base': {'log_level': 'INFO', 'random_state': 42},\n",
      " 'data': {'path': 'data/review.csv',\n",
      "          'processed_path': 'data/processed.csv',\n",
      "          'test_path': 'data/test.csv',\n",
      "          'train_path': 'data/train.csv'},\n",
      " 'evaluate': {'metrics_file': 'reports/metrics.json'},\n",
      " 'train': {'model_accuracy_path': 'reports/model_accuracy.png',\n",
      "           'model_checkpoint': 'model/best_model.h5',\n",
      "           'model_loss_path': 'reports/model_loss.png',\n",
      "           'model_parameters': {'batch_size': 64,\n",
      "                                'epochs': 20,\n",
      "                                'validation_split': 0.2}}}\n"
     ]
    }
   ],
   "source": [
    "import yaml\n",
    "import pprint\n",
    "\n",
    "with open('params.yaml') as conf_file:\n",
    "    config = yaml.safe_load(conf_file)\n",
    "\n",
    "pprint.pprint(config)"
   ]
  },
  {
   "cell_type": "markdown",
   "metadata": {},
   "source": [
    "## Prepare Data"
   ]
  },
  {
   "cell_type": "code",
   "execution_count": 3,
   "metadata": {},
   "outputs": [],
   "source": [
    "from src.stages.preprocess import process\n",
    "\n",
    "process('params.yaml')"
   ]
  },
  {
   "cell_type": "code",
   "execution_count": null,
   "metadata": {},
   "outputs": [],
   "source": [
    "from src.stages.data_split import split\n",
    "\n",
    "split('params.yaml')"
   ]
  },
  {
   "cell_type": "markdown",
   "metadata": {},
   "source": [
    "### **Train Model**"
   ]
  },
  {
   "cell_type": "code",
   "execution_count": null,
   "metadata": {},
   "outputs": [],
   "source": [
    "from src.stages.train import train\n",
    "\n",
    "train('params.yaml')"
   ]
  },
  {
   "cell_type": "markdown",
   "metadata": {},
   "source": [
    "### **Evaluate Model**"
   ]
  },
  {
   "cell_type": "code",
   "execution_count": null,
   "metadata": {},
   "outputs": [],
   "source": [
    "from src.stages.evaluate import evaluate\n",
    "\n",
    "evaluate('params.yaml')"
   ]
  }
 ],
 "metadata": {
  "kernelspec": {
   "display_name": "sttenv",
   "language": "python",
   "name": "python3"
  },
  "language_info": {
   "codemirror_mode": {
    "name": "ipython",
    "version": 3
   },
   "file_extension": ".py",
   "mimetype": "text/x-python",
   "name": "python",
   "nbconvert_exporter": "python",
   "pygments_lexer": "ipython3",
   "version": "3.12.2"
  }
 },
 "nbformat": 4,
 "nbformat_minor": 2
}
